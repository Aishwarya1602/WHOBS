{
 "cells": [
  {
   "cell_type": "markdown",
   "metadata": {},
   "source": [
    "# Optimal Wind+Hydrogen+Other+Battery+Solar Electricity Systems for European countries\n",
    "\n",
    "Download Jupyter notebook at https://github/PyPSA/WHOBS\n",
    "\n",
    "Required data:\n",
    "\n",
    "i) Solar time series \"ninja_pv_europe_v1.1_sarah.csv\" from \"PV v1.1 Europe\" https://www.renewables.ninja/downloads\n",
    "\n",
    "ii) Wind time series \"ninja_wind_europe_v1.1_current_on-offshore.csv\" from \"Wind v1.1 Europe\" https://www.renewables.ninja/downloads"
   ]
  },
  {
   "cell_type": "code",
   "execution_count": 1,
   "metadata": {
    "collapsed": true
   },
   "outputs": [],
   "source": [
    "import pypsa\n",
    "\n",
    "import pandas as pd\n",
    "\n",
    "idx = pd.IndexSlice\n",
    "\n",
    "import matplotlib.pyplot as plt\n",
    "\n",
    "from pyomo.environ import Constraint\n",
    "\n",
    "%matplotlib inline"
   ]
  },
  {
   "cell_type": "markdown",
   "metadata": {},
   "source": [
    "## Read in data"
   ]
  },
  {
   "cell_type": "code",
   "execution_count": 2,
   "metadata": {
    "collapsed": false
   },
   "outputs": [],
   "source": [
    "#read in renewables.ninja solar time series\n",
    "solar_pu = pd.read_csv('ninja_pv_europe_v1.1_sarah.csv',\n",
    "                       index_col=0,parse_dates=True)"
   ]
  },
  {
   "cell_type": "code",
   "execution_count": 3,
   "metadata": {
    "collapsed": true
   },
   "outputs": [],
   "source": [
    "#read in renewables.ninja wind time series\n",
    "wind_pu = pd.read_csv('ninja_wind_europe_v1.1_current_on-offshore.csv',\n",
    "                       index_col=0,parse_dates=True)"
   ]
  },
  {
   "cell_type": "markdown",
   "metadata": {},
   "source": [
    "## Major settings (see config.yaml)"
   ]
  },
  {
   "cell_type": "code",
   "execution_count": 4,
   "metadata": {
    "collapsed": true
   },
   "outputs": [],
   "source": [
    "\n",
    "add_hydrogen = True\n",
    "\n",
    "#years for weather data (solar is 1985-2015 inclusive, wind is 1980-2016)\n",
    "year_start = 2015\n",
    "year_end = 2015\n",
    "\n",
    "#1 is hourly, 3 is 3-hourly\n",
    "frequency = 1\n",
    "\n",
    "#Fixed load in MW\n",
    "load = 1\n",
    "\n",
    "#change to cbc or glpk for open-source solvers\n",
    "solver_name = \"gurobi\""
   ]
  },
  {
   "cell_type": "markdown",
   "metadata": {},
   "source": [
    "## Required functions"
   ]
  },
  {
   "cell_type": "code",
   "execution_count": 5,
   "metadata": {
    "collapsed": true
   },
   "outputs": [],
   "source": [
    "def annuity(lifetime,rate):\n",
    "    if rate == 0.:\n",
    "        return 1/lifetime\n",
    "    else:\n",
    "        return rate/(1. - 1. / (1. + rate)**lifetime)"
   ]
  },
  {
   "cell_type": "code",
   "execution_count": 6,
   "metadata": {
    "collapsed": false
   },
   "outputs": [],
   "source": [
    "def prepare_assumptions(Nyears=1,usd_to_eur=1/1.2,assumptions_year=2020):\n",
    "    \"\"\"set all asset assumptions and other parameters\"\"\"\n",
    "\n",
    "    assumptions = pd.read_csv(\"assumptions.csv\",index_col=list(range(3))).sort_index()\n",
    "\n",
    "    #correct units to MW and EUR\n",
    "    assumptions.loc[assumptions.unit.str.contains(\"/kW\"),\"value\"]*=1e3\n",
    "    assumptions.loc[assumptions.unit.str.contains(\"USD\"),\"value\"]*=usd_to_eur\n",
    "\n",
    "    assumptions = assumptions.loc[idx[:,assumptions_year,:],\"value\"].unstack(level=2).groupby(level=\"technology\").sum(min_count=1)\n",
    "\n",
    "    #fill defaults\n",
    "    assumptions = assumptions.fillna({\"FOM\" : assumptions.at[\"default\",\"FOM\"],\n",
    "                                      \"discount rate\" : assumptions.at[\"default\",\"discount rate\"],\n",
    "                                      \"lifetime\" : assumptions.at[\"default\",\"lifetime\"]})\n",
    "\n",
    "    #annualise investment costs, add FOM\n",
    "    assumptions[\"fixed\"] = [(annuity(v[\"lifetime\"],v[\"discount rate\"])+v[\"FOM\"]/100.)*v[\"investment\"]*Nyears for i,v in assumptions.iterrows()]\n",
    "\n",
    "    return assumptions"
   ]
  },
  {
   "cell_type": "code",
   "execution_count": 50,
   "metadata": {
    "collapsed": false
   },
   "outputs": [],
   "source": [
    "def solve_network(ct,scenario):\n",
    "\n",
    "    Nyears = year_end - year_start + 1\n",
    "\n",
    "    assumptions_year = int(scenario[:4])\n",
    "\n",
    "    assumptions = prepare_assumptions(Nyears=Nyears,\n",
    "                                      assumptions_year=assumptions_year)\n",
    "\n",
    "    if \"steel_tanks\" in scenario:\n",
    "        assumptions.loc[\"H2 storage\"] = assumptions.loc[\"H2 steel tank storage\"]\n",
    "    else:\n",
    "        assumptions.loc[\"H2 storage\"] = assumptions.loc[\"H2 underground storage\"]\n",
    "\n",
    "\n",
    "    network = pypsa.Network()\n",
    "\n",
    "    snapshots = pd.date_range(\"{}-01-01\".format(year_start),\"{}-12-31 23:00\".format(year_end),\n",
    "                              freq=str(frequency)+\"H\")\n",
    "\n",
    "    network.set_snapshots(snapshots)\n",
    "\n",
    "    network.snapshot_weightings = pd.Series(float(frequency),index=network.snapshots)\n",
    "\n",
    "    network.add(\"Bus\",ct)\n",
    "    network.add(\"Load\",ct,\n",
    "                bus=ct,\n",
    "                p_set=load)\n",
    "\n",
    "    network.add(\"Generator\",ct+\" solar\",\n",
    "                bus=ct,\n",
    "                p_max_pu = solar_pu[ct],\n",
    "                p_nom_extendable = True,\n",
    "                marginal_cost = 0.01, #Small cost to prefer curtailment to destroying energy in storage, solar curtails before wind\n",
    "                capital_cost = assumptions.at['utility solar PV','fixed'])\n",
    "\n",
    "    network.add(\"Generator\",ct+\" wind\",\n",
    "                bus=ct,\n",
    "                p_max_pu = wind_pu[ct+\"_ON\"],\n",
    "                p_nom_extendable = True,\n",
    "                marginal_cost = 0.02, #Small cost to prefer curtailment to destroying energy in storage, solar curtails before wind\n",
    "                capital_cost = assumptions.at['onshore wind','fixed'])\n",
    "\n",
    "    network.add(\"Bus\",ct + \" battery\")\n",
    "\n",
    "    network.add(\"Store\",ct + \" battery storage\",\n",
    "                bus = ct + \" battery\",\n",
    "                e_nom_extendable = True,\n",
    "                e_cyclic=True,\n",
    "                capital_cost=assumptions.at['battery storage','fixed'])\n",
    "\n",
    "    network.add(\"Link\",ct + \" battery charge\",\n",
    "                bus0 = ct,\n",
    "                bus1 = ct + \" battery\",\n",
    "                efficiency = assumptions.at['battery inverter','efficiency'],\n",
    "                p_nom_extendable = True,\n",
    "                capital_cost=assumptions.at['battery inverter','fixed'])\n",
    "\n",
    "    network.add(\"Link\",ct + \" battery discharge\",\n",
    "                bus0 = ct + \" battery\",\n",
    "                bus1 = ct,\n",
    "                p_nom_extendable = True,\n",
    "                efficiency = assumptions.at['battery inverter','efficiency'])\n",
    "\n",
    "    def extra_functionality(network,snapshots):\n",
    "        def battery(model):\n",
    "            return model.link_p_nom[ct + \" battery charge\"] == model.link_p_nom[ct + \" battery discharge\"]*network.links.at[ct + \" battery charge\",\"efficiency\"]\n",
    "\n",
    "        network.model.battery = Constraint(rule=battery)\n",
    "\n",
    "    if add_hydrogen:\n",
    "\n",
    "        network.add(\"Bus\",\n",
    "                     ct + \" H2\",\n",
    "                     carrier=\"H2\")\n",
    "\n",
    "        network.add(\"Link\",\n",
    "                    ct + \" H2 electrolysis\",\n",
    "                    bus1=ct + \" H2\",\n",
    "                    bus0=ct,\n",
    "                    p_nom_extendable=True,\n",
    "                    efficiency=assumptions.at[\"H2 electrolysis\",\"efficiency\"],\n",
    "                    capital_cost=assumptions.at[\"H2 electrolysis\",\"fixed\"])\n",
    "\n",
    "        network.add(\"Link\",\n",
    "                     ct + \" H2 to power\",\n",
    "                     bus0=ct + \" H2\",\n",
    "                     bus1=ct,\n",
    "                     p_nom_extendable=True,\n",
    "                     efficiency=assumptions.at[\"H2 CCGT\",\"efficiency\"],\n",
    "                     capital_cost=assumptions.at[\"H2 CCGT\",\"fixed\"]*assumptions.at[\"H2 CCGT\",\"efficiency\"])  #NB: fixed cost is per MWel\n",
    "\n",
    "        network.add(\"Store\",\n",
    "                     ct + \" H2 storage\",\n",
    "                     bus=ct + \" H2\",\n",
    "                     e_nom_extendable=True,\n",
    "                     e_cyclic=True,\n",
    "                     capital_cost=assumptions.at[\"H2 storage\",\"fixed\"])\n",
    "\n",
    "\n",
    "    if solver_name == \"gurobi\":\n",
    "        solver_options = {\"threads\" : 4,\n",
    "                          \"method\" : 2,\n",
    "                          \"crossover\" : 0,\n",
    "                          \"BarConvTol\": 1.e-5,\n",
    "                          \"FeasibilityTol\": 1.e-6 }\n",
    "    else:\n",
    "        solver_options = {}\n",
    "\n",
    "\n",
    "    network.consistency_check()\n",
    "\n",
    "    network.lopf(solver_name=solver_name,\n",
    "                 solver_options=solver_options,\n",
    "                 extra_functionality=extra_functionality)\n",
    "\n",
    "    return network"
   ]
  },
  {
   "cell_type": "code",
   "execution_count": 51,
   "metadata": {
    "collapsed": true
   },
   "outputs": [],
   "source": [
    "def gather_stats(network,ct):\n",
    "    stats = pd.DataFrame()\n",
    "    \n",
    "    stats.loc[\"cost\",ct] = network.buses_t.marginal_price.mean()[ct]\n",
    "    \n",
    "    gens = [\"wind\",\"solar\"]\n",
    "    \n",
    "    for g in gens:\n",
    "        stats.loc[g,ct] = network.generators.p_nom_opt[ct + \" \" + g]\n",
    "    stats.loc[\"charger\",ct] = network.links.p_nom_opt[ct + \" battery charge\"]\n",
    "    stats.loc[\"elec\",ct] = network.links.p_nom_opt[ct + \" H2 electrolysis\"]\n",
    "    stats.loc[\"fc\",ct] = network.links.p_nom_opt[ct + \" H2 to power\"]\n",
    "    stats.loc[\"batt\",ct] = network.stores.e_nom_opt[ct + \" battery storage\"]\n",
    "    stats.loc[\"H2\",ct] = network.stores.e_nom_opt[ct + \" H2 storage\"]\n",
    "    available = network.generators_t.p_max_pu.multiply(network.generators.p_nom_opt).sum()\n",
    "    used = network.generators_t.p.sum()\n",
    "    curtailment = (available-used)/available\n",
    "    stats.loc[\"wcurt\",ct] = curtailment[ct + \" wind\"]\n",
    "    stats.loc[\"scurt\",ct] = curtailment[ct + \" solar\"]\n",
    "    \n",
    "    return stats"
   ]
  },
  {
   "cell_type": "markdown",
   "metadata": {},
   "source": [
    "## Solve the system"
   ]
  },
  {
   "cell_type": "code",
   "execution_count": 52,
   "metadata": {
    "collapsed": false
   },
   "outputs": [
    {
     "name": "stderr",
     "output_type": "stream",
     "text": [
      "INFO:pypsa.pf:Slack bus for sub-network 0 is DE\n",
      "WARNING:pypsa.pf:No generators in sub-network 1, better hope power is already balanced\n",
      "INFO:pypsa.pf:Slack bus for sub-network 1 is DE battery\n",
      "WARNING:pypsa.pf:No generators in sub-network 2, better hope power is already balanced\n",
      "INFO:pypsa.pf:Slack bus for sub-network 2 is DE H2\n",
      "INFO:pypsa.opf:Performed preliminary steps\n",
      "INFO:pypsa.opf:Building pyomo model using `angles` formulation\n",
      "INFO:pypsa.opf:Solving model using gurobi\n",
      "INFO:pypsa.opf:Optimization successful\n"
     ]
    },
    {
     "name": "stdout",
     "output_type": "stream",
     "text": [
      "# ==========================================================\n",
      "# = Solver Results                                         =\n",
      "# ==========================================================\n",
      "# ----------------------------------------------------------\n",
      "#   Problem Information\n",
      "# ----------------------------------------------------------\n",
      "Problem: \n",
      "- Name: \n",
      "  Lower bound: 832420.682484\n",
      "  Upper bound: 832420.682484\n",
      "  Number of objectives: 1\n",
      "  Number of constraints: 210242\n",
      "  Number of variables: 113889\n",
      "  Number of binary variables: 0\n",
      "  Number of integer variables: 0\n",
      "  Number of continuous variables: 113889\n",
      "  Number of nonzeros: 389977\n",
      "  Sense: minimize\n",
      "# ----------------------------------------------------------\n",
      "#   Solver Information\n",
      "# ----------------------------------------------------------\n",
      "Solver: \n",
      "- Status: ok\n",
      "  Return code: 0\n",
      "  Message: Model was solved to optimality (subject to tolerances), and an optimal solution is available.\n",
      "  Termination condition: optimal\n",
      "  Termination message: Model was solved to optimality (subject to tolerances), and an optimal solution is available.\n",
      "  Wall time: 9.29865384102\n",
      "  Error rc: 0\n",
      "  Time: 12.649651765823364\n",
      "# ----------------------------------------------------------\n",
      "#   Solution Information\n",
      "# ----------------------------------------------------------\n",
      "Solution: \n",
      "- number of solutions: 0\n",
      "  number of solutions displayed: 0\n"
     ]
    }
   ],
   "source": [
    "ct = \"DE\"\n",
    "scenario = \"2030\"\n",
    "\n",
    "network = solve_network(ct, scenario)"
   ]
  },
  {
   "cell_type": "code",
   "execution_count": 53,
   "metadata": {
    "collapsed": false
   },
   "outputs": [
    {
     "data": {
      "text/html": [
       "<div>\n",
       "<style scoped>\n",
       "    .dataframe tbody tr th:only-of-type {\n",
       "        vertical-align: middle;\n",
       "    }\n",
       "\n",
       "    .dataframe tbody tr th {\n",
       "        vertical-align: top;\n",
       "    }\n",
       "\n",
       "    .dataframe thead th {\n",
       "        text-align: right;\n",
       "    }\n",
       "</style>\n",
       "<table border=\"1\" class=\"dataframe\">\n",
       "  <thead>\n",
       "    <tr style=\"text-align: right;\">\n",
       "      <th></th>\n",
       "      <th>DE</th>\n",
       "    </tr>\n",
       "  </thead>\n",
       "  <tbody>\n",
       "    <tr>\n",
       "      <th>cost</th>\n",
       "      <td>95.025174</td>\n",
       "    </tr>\n",
       "    <tr>\n",
       "      <th>wind</th>\n",
       "      <td>3.866379</td>\n",
       "    </tr>\n",
       "    <tr>\n",
       "      <th>solar</th>\n",
       "      <td>4.125648</td>\n",
       "    </tr>\n",
       "    <tr>\n",
       "      <th>charger</th>\n",
       "      <td>0.369427</td>\n",
       "    </tr>\n",
       "    <tr>\n",
       "      <th>elec</th>\n",
       "      <td>1.267184</td>\n",
       "    </tr>\n",
       "    <tr>\n",
       "      <th>fc</th>\n",
       "      <td>1.332414</td>\n",
       "    </tr>\n",
       "    <tr>\n",
       "      <th>batt</th>\n",
       "      <td>2.384779</td>\n",
       "    </tr>\n",
       "    <tr>\n",
       "      <th>H2</th>\n",
       "      <td>613.777420</td>\n",
       "    </tr>\n",
       "    <tr>\n",
       "      <th>wcurt</th>\n",
       "      <td>0.033816</td>\n",
       "    </tr>\n",
       "    <tr>\n",
       "      <th>scurt</th>\n",
       "      <td>0.118657</td>\n",
       "    </tr>\n",
       "  </tbody>\n",
       "</table>\n",
       "</div>"
      ],
      "text/plain": [
       "                 DE\n",
       "cost      95.025174\n",
       "wind       3.866379\n",
       "solar      4.125648\n",
       "charger    0.369427\n",
       "elec       1.267184\n",
       "fc         1.332414\n",
       "batt       2.384779\n",
       "H2       613.777420\n",
       "wcurt      0.033816\n",
       "scurt      0.118657"
      ]
     },
     "execution_count": 53,
     "metadata": {},
     "output_type": "execute_result"
    }
   ],
   "source": [
    "stats = gather_stats(network,ct)\n",
    "stats"
   ]
  },
  {
   "cell_type": "code",
   "execution_count": 54,
   "metadata": {
    "collapsed": false
   },
   "outputs": [
    {
     "data": {
      "text/plain": [
       "DE solar    55.430270\n",
       "DE wind     59.408162\n",
       "dtype: float64"
      ]
     },
     "execution_count": 54,
     "metadata": {},
     "output_type": "execute_result"
    }
   ],
   "source": [
    "#absolute market value in EUR/MWh\n",
    "(network.generators_t.p.multiply(network.buses_t.marginal_price[ct],axis=0).sum()/network.generators_t.p.sum())"
   ]
  },
  {
   "cell_type": "code",
   "execution_count": 55,
   "metadata": {
    "collapsed": false
   },
   "outputs": [
    {
     "data": {
      "text/plain": [
       "DE solar    55.410273\n",
       "DE wind     59.398165\n",
       "dtype: float64"
      ]
     },
     "execution_count": 55,
     "metadata": {},
     "output_type": "execute_result"
    }
   ],
   "source": [
    "#market cost in EUR/MWh (LCOE) - for long-term equilibrium without additional constraints, same as market value\n",
    "(network.generators.capital_cost*network.generators.p_nom_opt)/network.generators_t.p.sum()"
   ]
  },
  {
   "cell_type": "code",
   "execution_count": 56,
   "metadata": {
    "collapsed": false
   },
   "outputs": [
    {
     "data": {
      "text/plain": [
       "DE solar    0.583322\n",
       "DE wind     0.625183\n",
       "dtype: float64"
      ]
     },
     "execution_count": 56,
     "metadata": {},
     "output_type": "execute_result"
    }
   ],
   "source": [
    "#relative market value\n",
    "(network.generators_t.p.multiply(network.buses_t.marginal_price[ct],axis=0).sum()/network.generators_t.p.sum())/network.buses_t.marginal_price[ct].mean()"
   ]
  },
  {
   "cell_type": "code",
   "execution_count": 57,
   "metadata": {
    "collapsed": false
   },
   "outputs": [
    {
     "data": {
      "text/plain": [
       "DE battery charge       0.448468\n",
       "DE battery discharge    1.420069\n",
       "DE H2 electrolysis      0.333449\n",
       "DE H2 to power          1.811971\n",
       "dtype: float64"
      ]
     },
     "execution_count": 57,
     "metadata": {},
     "output_type": "execute_result"
    }
   ],
   "source": [
    "#relative market value\n",
    "(network.links_t.p0.multiply(network.buses_t.marginal_price[ct],axis=0).sum()/network.links_t.p0.sum())/network.buses_t.marginal_price[ct].mean()"
   ]
  },
  {
   "cell_type": "code",
   "execution_count": 61,
   "metadata": {
    "collapsed": false
   },
   "outputs": [
    {
     "name": "stdout",
     "output_type": "stream",
     "text": [
      "False\n"
     ]
    },
    {
     "name": "stderr",
     "output_type": "stream",
     "text": [
      "/home/tom/.virtualenvs/tom3/lib/python3.5/site-packages/matplotlib/axes/_base.py:3239: UserWarning:\n",
      "\n",
      "Attempting to set identical bottom==top results\n",
      "in singular transformations; automatically expanding.\n",
      "bottom=0.0, top=0\n",
      "\n"
     ]
    },
    {
     "data": {
      "text/plain": [
       "(-3, 3)"
      ]
     },
     "execution_count": 61,
     "metadata": {},
     "output_type": "execute_result"
    },
    {
     "data": {
      "image/png": "[encoded data removed]",
      "text/plain": [
       "<matplotlib.figure.Figure at 0x7f97ebd60c50>"
      ]
     },
     "metadata": {},
     "output_type": "display_data"
    }
   ],
   "source": [
    "fig, ax = plt.subplots()\n",
    "fig.set_size_inches((12,8))\n",
    "\n",
    "start = \"2015-01-01\"\n",
    "\n",
    "stop = \"2015-01-31\"\n",
    "\n",
    "positive = pd.concat((network.generators_t.p,-network.links_t.p1[[ct+\" H2 to power\",ct+\" battery discharge\"]]),axis=1)\n",
    "\n",
    "negative = pd.concat((-network.loads_t.p,-network.links_t.p0[[ct+\" H2 electrolysis\",ct+\" battery charge\"]]),axis=1)\n",
    "\n",
    "print((abs(positive.sum(axis=1) + negative.sum(axis=1)) > 0.1).any())\n",
    "\n",
    "positive.loc[start:stop].plot(kind=\"area\",stacked=True,ax=ax,linewidth=0)\n",
    "\n",
    "negative.loc[start:stop].plot(kind=\"area\",stacked=True,ax=ax,linewidth=0)\n",
    "\n",
    "ax.set_ylim([-3,3])"
   ]
  },
  {
   "cell_type": "code",
   "execution_count": 62,
   "metadata": {
    "collapsed": false
   },
   "outputs": [
    {
     "data": {
      "text/plain": [
       "<matplotlib.axes._subplots.AxesSubplot at 0x7f98089b9390>"
      ]
     },
     "execution_count": 62,
     "metadata": {},
     "output_type": "execute_result"
    },
    {
     "data": {
      "image/png": "[encoded data removed]",
      "text/plain": [
       "<matplotlib.figure.Figure at 0x7f980d60fd68>"
      ]
     },
     "metadata": {},
     "output_type": "display_data"
    }
   ],
   "source": [
    "network.buses_t.marginal_price.plot()"
   ]
  },
  {
   "cell_type": "code",
   "execution_count": 63,
   "metadata": {
    "collapsed": false
   },
   "outputs": [
    {
     "data": {
      "text/plain": [
       "DE            95.025174\n",
       "DE battery    93.521093\n",
       "DE H2         78.070781\n",
       "dtype: float64"
      ]
     },
     "execution_count": 63,
     "metadata": {},
     "output_type": "execute_result"
    }
   ],
   "source": [
    "network.buses_t.marginal_price.mean()"
   ]
  },
  {
   "cell_type": "code",
   "execution_count": 17,
   "metadata": {
    "collapsed": false
   },
   "outputs": [
    {
     "data": {
      "text/plain": [
       "<matplotlib.axes._subplots.AxesSubplot at 0x7f24edae4f98>"
      ]
     },
     "execution_count": 17,
     "metadata": {},
     "output_type": "execute_result"
    },
    {
     "data": {
      "image/png": "[encoded data removed]",
      "text/plain": [
       "<matplotlib.figure.Figure at 0x7f24eda971d0>"
      ]
     },
     "metadata": {},
     "output_type": "display_data"
    }
   ],
   "source": [
    "opt_costs = pd.Series()\n",
    "\n",
    "\n",
    "opt_costs = pd.concat((opt_costs,network.generators.capital_cost*network.generators.p_nom_opt))\n",
    "\n",
    "opt_costs = pd.concat((opt_costs,network.links.capital_cost*network.links.p_nom_opt))\n",
    "\n",
    "opt_costs = pd.concat((opt_costs,network.stores.capital_cost*network.stores.e_nom_opt))\n",
    "\n",
    "\n",
    "(opt_costs/opt_costs.sum()).plot(kind=\"bar\",grid=True)"
   ]
  },
  {
   "cell_type": "code",
   "execution_count": null,
   "metadata": {
    "collapsed": true
   },
   "outputs": [],
   "source": []
  }
 ],
 "metadata": {
  "kernelspec": {
   "display_name": "Python 3",
   "language": "python",
   "name": "python3"
  },
  "language_info": {
   "codemirror_mode": {
    "name": "ipython",
    "version": 3
   },
   "file_extension": ".py",
   "mimetype": "text/x-python",
   "name": "python",
   "nbconvert_exporter": "python",
   "pygments_lexer": "ipython3",
   "version": "3.5.2"
  }
 },
 "nbformat": 4,
 "nbformat_minor": 2
}
